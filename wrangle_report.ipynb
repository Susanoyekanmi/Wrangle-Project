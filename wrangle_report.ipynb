{
 "cells": [
  {
   "cell_type": "markdown",
   "metadata": {},
   "source": [
    "## Reporting: wrangle_report\n",
    "\n",
    "\n",
    "This data wrangling project goal is to \n",
    "\n",
    "\n",
    "1.Wrangle WeRateDogs twitter data by  \n",
    "\n",
    ".Gathering the datasets;tweet_archived_enhanced,tweet_json,image_prediction\n",
    "\n",
    "s it contains to create interesting analyses and visualizations.\n",
    " \n",
    ".Assessing the datasets\n",
    "\n",
    ".cleaning the data\n",
    "\n",
    "2.Storing,analyzing and visusalizing my wrangled data\n",
    "\n",
    "3.Reporting on the data wrangling efforts and the data analysis visualization"
   ]
  },
  {
   "cell_type": "markdown",
   "metadata": {},
   "source": [
    "WRANGLING DATA BY \n",
    "\n",
    "GATHERING DATA\n",
    "\n",
    "I gathered each of the three different datasets needed for this project \n",
    "\n",
    "differently;\n",
    "\n",
    ".The first data set 'twitter_archived_enhanced.csv' was loaded directly into the \n",
    "\n",
    "notebook of which i uploaded and renamed to 'twitter.csv'for easy accessibility\n",
    "\n",
    ".The second dataset was also downloaded using the requests library which was \n",
    "\n",
    "imported among the modules ,i loaded this data using the read_table format beca\n",
    "\n",
    "use of the 'tsv' format it was in. \n",
    "\n",
    ".The third dataset 'tweet-json_txt' was gathered by using the tweepy module to \n",
    "\n",
    "get information from twitter API, i did this by creating a twitter developer\n",
    "\n",
    "account where i got my credentials , created a function where i could use to \n",
    "\n",
    "get all  my credentials ,then i added each list to the tweet_id and read the \n",
    "\n",
    "new list into a panda dataframe ,then i finally loaded my data.\n"
   ]
  },
  {
   "cell_type": "markdown",
   "metadata": {},
   "source": [
    "ASSESSING DATA\n",
    "\n",
    "After i gathered the three datas ,i assessed each of the dataset visually and \n",
    "\n",
    "programmatically to check for quality issues and tidiness\n",
    "\n"
   ]
  },
  {
   "cell_type": "markdown",
   "metadata": {},
   "source": [
    "QUALITY ISSUES\n",
    "\n",
    "\n",
    "ISSUES\n",
    "\n",
    "TWITTER_ARCHIVED_ENHANCED\n",
    "\n",
    "Keep original(no retweets) ratings that have images\n",
    "\n",
    "Delete all retweets\n",
    "\n",
    "Drop unecessary columns\n",
    "\n",
    "wrong datatypes for tweet_id in twit_data table\n",
    "\n",
    "wrong datatypes in timestamp\n",
    "\n",
    "Error in names column\n",
    "\n",
    "Error in rating_numerator columns\n",
    "\n",
    "IMAGE_PREDICTIONS TABLE\n",
    "\n",
    "duplicates in jpg_url column \n",
    "\n",
    "\n",
    "\n",
    "\n",
    "TIDINESS \n",
    "\n",
    "Merge doggo,floofer,pupper and puppo columns by creating a new one named dogs_breed\n",
    "\n",
    "Merge clean versions of the dataset together \n",
    "\n",
    "Merge rating denominator and rating numerator column together"
   ]
  },
  {
   "cell_type": "markdown",
   "metadata": {},
   "source": [
    "CLEANING DATA\n",
    "\n",
    "I cleaned my datasets by solving all the issues stated in the quality and    \n",
    "\n",
    "tidiness section by using the define-code-test framework ,I ensured my dataset \n",
    "\n",
    "were merged properly\n"
   ]
  },
  {
   "cell_type": "markdown",
   "metadata": {},
   "source": [
    "STORING DATA\n",
    "\n",
    "I stored the cleaned data in a csv file ,then loaded and read it for further  \n",
    "\n",
    "analysis which was done in the visualization analysis section"
   ]
  },
  {
   "cell_type": "code",
   "execution_count": 6,
   "metadata": {},
   "outputs": [
    {
     "data": {
      "text/plain": [
       "0"
      ]
     },
     "execution_count": 6,
     "metadata": {},
     "output_type": "execute_result"
    }
   ],
   "source": [
    "from subprocess import call\n",
    "call(['python','-m', 'nbconvert', 'wrangle_report.ipynb'])\n",
    "\n"
   ]
  },
  {
   "cell_type": "code",
   "execution_count": null,
   "metadata": {},
   "outputs": [],
   "source": []
  }
 ],
 "metadata": {
  "kernelspec": {
   "display_name": "Python 3",
   "language": "python",
   "name": "python3"
  },
  "language_info": {
   "codemirror_mode": {
    "name": "ipython",
    "version": 3
   },
   "file_extension": ".py",
   "mimetype": "text/x-python",
   "name": "python",
   "nbconvert_exporter": "python",
   "pygments_lexer": "ipython3",
   "version": "3.6.3"
  }
 },
 "nbformat": 4,
 "nbformat_minor": 2
}
